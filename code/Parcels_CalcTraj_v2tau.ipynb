{
 "cells": [
  {
   "attachments": {},
   "cell_type": "markdown",
   "id": "0559c420-f159-40a4-b07f-d837c86d486f",
   "metadata": {},
   "source": [
    "# Calculating virtual partical trajectories from ocean-only (uncoupled)  and ocean-wave (coupled) model simulations for the Mediterranean Sea"
   ]
  },
  {
   "attachments": {},
   "cell_type": "markdown",
   "id": "9e221b09-b2b0-4698-a09d-36510bcef242",
   "metadata": {},
   "source": [
    "## 1. General settings\n",
    "Can nearly always stay untouched"
   ]
  },
  {
   "attachments": {},
   "cell_type": "markdown",
   "id": "1f7893ad",
   "metadata": {},
   "source": [
    "### 1.1 Load Modules"
   ]
  },
  {
   "cell_type": "code",
   "execution_count": 1,
   "id": "4d43e785-e83e-46b1-bbd0-86c6c4cd5dec",
   "metadata": {},
   "outputs": [],
   "source": [
    "from glob import glob\n",
    "from datetime import timedelta, datetime\n",
    "import math\n",
    "\n",
    "from parcels import (FieldSet, ParticleSet,\n",
    "                     JITParticle, ScipyParticle,\n",
    "                     AdvectionRK4,\n",
    "                     Variable, Field, VectorField)\n",
    "import xarray as xr\n",
    "import numpy as np\n",
    "\n",
    "%matplotlib inline"
   ]
  },
  {
   "attachments": {},
   "cell_type": "markdown",
   "id": "dc9aef4d",
   "metadata": {},
   "source": [
    " ### 1.2 Define general custom functions"
   ]
  },
  {
   "cell_type": "code",
   "execution_count": 2,
   "id": "783e3a5a",
   "metadata": {},
   "outputs": [
    {
     "name": "stdout",
     "output_type": "stream",
     "text": [
      "crange(1, 1.3, 0.1) >>> [1.  1.1 1.2 1.3]\n",
      "orange(1, 1.3, 0.1) >>> [1.  1.1 1.2]\n",
      "crange(0.0, 0.6, 0.2) >>> [0.  0.2 0.4 0.6]\n",
      "orange(0.0, 0.6, 0.2) >>> [0.  0.2 0.4]\n"
     ]
    }
   ],
   "source": [
    "# DEFINE ALTERNATIVE TO USE NP.ARANGE\n",
    "#\n",
    "# from https://stackoverflow.com/questions/50299172/python-range-or-numpy-arange-with-end-limit-include\n",
    "#\n",
    "# WHY using it? \n",
    "# In principal, values are generated within the half-open interval [start, stop)\n",
    "# (in other words, the interval including start but excluding stop). \n",
    "# Yet, when using a non-integer step, such as 0.1, the results of np.arange will often not be consistent. \n",
    "# Specifically, they sometimes do include the stop value.\n",
    "# It is better to use the following function based on numpy.linspace for these cases\n",
    "\n",
    "def cust_range(*args, rtol=1e-05, atol=1e-08, include=[True, False]):\n",
    "    \"\"\"\n",
    "    Combines numpy.arange and numpy.isclose to mimic\n",
    "    open, half-open and closed intervals.\n",
    "    Avoids also floating point rounding errors as with\n",
    "    >>> numpy.arange(1, 1.3, 0.1)\n",
    "    array([1. , 1.1, 1.2, 1.3])\n",
    "\n",
    "    args: [start, ]stop, [step, ]\n",
    "        as in numpy.arange\n",
    "    rtol, atol: floats\n",
    "        floating point tolerance as in numpy.isclose\n",
    "    include: boolean list-like, length 2\n",
    "        if start and end point are included\n",
    "    \"\"\"\n",
    "    # process arguments\n",
    "    if len(args) == 1:\n",
    "        start = 0\n",
    "        stop = args[0]\n",
    "        step = 1\n",
    "    elif len(args) == 2:\n",
    "        start, stop = args\n",
    "        step = 1\n",
    "    else:\n",
    "        assert len(args) == 3\n",
    "        start, stop, step = tuple(args)\n",
    "\n",
    "    # determine number of segments\n",
    "    n = (stop-start)/step + 1\n",
    "\n",
    "    # do rounding for n\n",
    "    if np.isclose(n, np.round(n), rtol=rtol, atol=atol):\n",
    "        n = np.round(n)\n",
    "\n",
    "    # correct for start/end is exluded\n",
    "    if not include[0]:\n",
    "        n -= 1\n",
    "        start += step\n",
    "    if not include[1]:\n",
    "        n -= 1\n",
    "        stop -= step\n",
    "\n",
    "    return np.linspace(start, stop, int(n))\n",
    "\n",
    "def crange(*args, **kwargs):\n",
    "    return cust_range(*args, **kwargs, include=[True, True])\n",
    "\n",
    "def orange(*args, **kwargs):\n",
    "    return cust_range(*args, **kwargs, include=[True, False])\n",
    "\n",
    "print('crange(1, 1.3, 0.1) >>>', crange(1, 1.3, 0.1))\n",
    "print('orange(1, 1.3, 0.1) >>>', orange(1, 1.3, 0.1))\n",
    "print('crange(0.0, 0.6, 0.2) >>>', crange(0.0, 0.6, 0.2))\n",
    "print('orange(0.0, 0.6, 0.2) >>>', orange(0.0, 0.6, 0.2))"
   ]
  },
  {
   "attachments": {},
   "cell_type": "markdown",
   "id": "90dc2f93",
   "metadata": {},
   "source": [
    "## 2. Custom settings Parcels\n",
    "!!! IMPORTANT: need to be checked/adjusted before every execution !!!"
   ]
  },
  {
   "attachments": {},
   "cell_type": "markdown",
   "id": "999a7ac3",
   "metadata": {},
   "source": [
    "### 2.1 Define input paths"
   ]
  },
  {
   "cell_type": "code",
   "execution_count": 3,
   "id": "140b3713",
   "metadata": {},
   "outputs": [
    {
     "name": "stdout",
     "output_type": "stream",
     "text": [
      "calculate trajectories for uncoupled simulation without additional consideration of Stokes drift\n"
     ]
    }
   ],
   "source": [
    "############################\n",
    "\n",
    "# set key to 'uncoupled', 'uncoupled_sd', 'coupled_nosd', or 'coupled_sd'\n",
    "key_input = 'uncoupled'\n",
    "\n",
    "# define whether along-track wind stress is sampled (key_sample_tau = True)\n",
    "key_sample_tau = True\n",
    "\n",
    "# define whether Lagrangian velocity is sampled (key_sample_velocity = True)\n",
    "key_sample_velocity = True\n",
    "\n",
    "############################\n",
    "\n",
    "datapath = '/Users/siren/Data/IMMERSE/'\n",
    "\n",
    "gridpath = (datapath + 'domain/fgrid.nc')\n",
    "\n",
    "if (key_input == 'uncoupled') or (key_input == 'uncoupled_sd'):\n",
    "    filepaths_u = sorted(glob(datapath + 'surface_TKE_UNC/MED24_OBC_1d*_grid_U.nc'))\n",
    "    filepaths_v = sorted(glob(datapath + 'surface_TKE_UNC/MED24_OBC_1d*_grid_V.nc'))\n",
    "    if key_input == 'uncoupled':\n",
    "        key_stokes = False\n",
    "        print('calculate trajectories for uncoupled simulation without additional consideration of Stokes drift')\n",
    "    elif key_input == 'uncoupled_sd':\n",
    "        key_stokes = True\n",
    "        filepaths_usd = sorted(glob(datapath + 'surface_TKE_CO/MED24_OBC_1d*_grid_U.nc'))\n",
    "        filepaths_vsd = sorted(glob(datapath + 'surface_TKE_CO/MED24_OBC_1d*_grid_V.nc'))\n",
    "        print('calculate trajectories for uncoupled simulation without additional consideration of Stokes drift')\n",
    "\n",
    "elif (key_input == 'coupled_nosd') or (key_input == 'coupled_sd'):\n",
    "    filepaths_u = sorted(glob(datapath + 'surface_TKE_CO/MED24_OBC_1d*_grid_U.nc'))\n",
    "    filepaths_v = sorted(glob(datapath + 'surface_TKE_CO/MED24_OBC_1d*_grid_V.nc'))\n",
    "    if key_input == 'coupled_nosd':\n",
    "        key_stokes = False\n",
    "        print('calculate trajectories for coupled simulation without explicit consideration of Stokes drift')\n",
    "    elif key_input == 'coupled_sd':\n",
    "        key_stokes = True\n",
    "        filepaths_usd = filepaths_u\n",
    "        filepaths_vsd = filepaths_v\n",
    "        print('calculate trajectories for coupled simulation with explicit consideration of Stokes drift')\n",
    "\n",
    "else:\n",
    "    print('no (valid) key_input defined')"
   ]
  },
  {
   "attachments": {},
   "cell_type": "markdown",
   "id": "66708be4",
   "metadata": {},
   "source": [
    "### 2.2 Define Particle release grid"
   ]
  },
  {
   "cell_type": "code",
   "execution_count": 4,
   "id": "fcb5f879",
   "metadata": {},
   "outputs": [
    {
     "name": "stdout",
     "output_type": "stream",
     "text": [
      "maximum number of release positions (including land): 112\n",
      "maximum number of particles (including land): 8176\n"
     ]
    }
   ],
   "source": [
    "############################\n",
    "\n",
    "# release_name can be 'GulfOfLion' or 'Ibiza' or 'MedSea'\n",
    "release_name = 'GulfOfLion'\n",
    "\n",
    "tstart_release = 0 # in time steps of input data set after start of input data set (here: days)\n",
    "deltat_release = 5 # release from the same set of locations every deltat_release time steps\n",
    "#tend_release = 5 # in time steps of input data set after start of input data set\n",
    "tend_release = 365 # in time steps of input data set after start of input data set\n",
    "times_convert = 86400 # time step of input data in seconds\n",
    "\n",
    "############################\n",
    "\n",
    "if release_name == 'GulfOfLion':\n",
    "    lonmin = 3\n",
    "    lonmax = 5.6\n",
    "    latmin = 42.1\n",
    "    latmax = 43.5\n",
    "    step = 0.2 #(appr. every 5th grid cell)\n",
    "    \n",
    "if release_name == 'Ibiza':\n",
    "    lonmin = 0.7\n",
    "    lonmax = 1.901\n",
    "    latmin = 38.3\n",
    "    latmax = 39.5\n",
    "    step = 0.2 #(appr. every 5th grid cell)\n",
    "\n",
    "if release_name == 'MedSeaMid':\n",
    "    lonmin = -0.6\n",
    "    lonmax = 22\n",
    "    latmin = 31\n",
    "    latmax = 46\n",
    "    step = 0.2 #(appr. every 5th grid cell)\n",
    "\n",
    "if release_name == 'MedSeaEast':\n",
    "    lonmin = 22.2\n",
    "    lonmax = 36.2\n",
    "    latmin = 31\n",
    "    latmax = 46\n",
    "    step = 0.2 #(appr. every 5th grid cell)\n",
    "    \n",
    "if release_name == 'MedSeaWest':\n",
    "    lonmin = -18.0\n",
    "    lonmax = -0.8\n",
    "    latmin = 31\n",
    "    latmax = 46\n",
    "    step = 0.2 #(appr. every 5th grid cell)\n",
    "\n",
    "lons, lats = np.meshgrid(crange(lonmin, lonmax, step),\n",
    "                         crange(latmin, latmax, step))\n",
    "n_releasepos = lons.shape[0]*lons.shape[1]\n",
    "n_particles = n_releasepos * ((tend_release-tstart_release)/deltat_release)\n",
    "print('maximum number of release positions (including land):', n_releasepos)\n",
    "print('maximum number of particles (including land):', int(n_particles))"
   ]
  },
  {
   "attachments": {},
   "cell_type": "markdown",
   "id": "5a2f697b",
   "metadata": {},
   "source": [
    "### 2.3 Define Lagrangian trajectory integration parameters"
   ]
  },
  {
   "cell_type": "code",
   "execution_count": 5,
   "id": "a1d359d7",
   "metadata": {},
   "outputs": [],
   "source": [
    "############################\n",
    "\n",
    "tint = 30 # in days\n",
    "deltat = 25 # in minutes\n",
    "# How to chose deltat (Schmidt et al., 2021):\n",
    "### The time step dt should be small enough that particles do not skip grid cells\n",
    "### and thereby miss characteristic oceanographic features. \n",
    "### Due to trade-off between accuracy of time stepping and computation time, the integration\n",
    "### time step dt was chosen such that particles stay in one model grid cell for at least 2dt\n",
    "### Therefore, a time step dt can be calculated following dt<dsmin/(vmax⋅2)\n",
    "### where dsmin is the smallest edge of all grid cells in the domain and\n",
    "### vmax is the largest horizontal velocity.\n",
    "### assume vmax = 1m/s, dsmin = 1/24 = 3000 m : dt < (3000 / 2)s = 1500 s = 25 min \n",
    "### (at 45N - northern boundary MedSea - 1deg lon is appr. 79km -> 1/24 deg = 3300m;\n",
    "### 1 deg lat is 111km)\n",
    "\n",
    "pclass = JITParticle \n",
    "# can be JITParticle or ScipyParticle\n",
    "\n",
    "#############################"
   ]
  },
  {
   "attachments": {},
   "cell_type": "markdown",
   "id": "31854350",
   "metadata": {},
   "source": [
    "### 2.4 Define Lagrangian trajectory output"
   ]
  },
  {
   "cell_type": "code",
   "execution_count": 6,
   "id": "84fb2ceb",
   "metadata": {},
   "outputs": [],
   "source": [
    "# DEFINE LAGRANGIAN TRAJECTORY OUTPUT\n",
    "\n",
    "############################\n",
    "\n",
    "outdt = 1 #in days\n",
    "procpath = '/Users/siren/IMMERSE_waves/develop-mac/data/Trajectories-revisedNEMO/Test/' + release_name +'/'\n",
    "\n",
    "############################\n",
    "\n",
    "if key_input == 'uncoupled':\n",
    "    outpath = (procpath + 'Parcels_CalcTraj_Data-uncoupled_Release-' + release_name)\n",
    "if key_input == 'uncoupled_sd':\n",
    "    outpath = (procpath + 'Parcels_CalcTraj_Data-uncoupled-sd_Release-' + release_name)\n",
    "elif key_input == 'coupled_nosd':\n",
    "    outpath = (procpath + 'Parcels_CalcTraj_Data-coupled-nosd_Release-' + release_name)\n",
    "elif key_input == 'coupled_sd':\n",
    "    outpath = (procpath + 'Parcels_CalcTraj_Data-coupled-sd_Release-' + release_name)"
   ]
  },
  {
   "attachments": {},
   "cell_type": "markdown",
   "id": "bd225e2a",
   "metadata": {},
   "source": [
    "## 3. Execution of Parcels simulation\n",
    "Under normal circumstances, nothing needs to be changed in this section"
   ]
  },
  {
   "attachments": {},
   "cell_type": "markdown",
   "id": "9d806160",
   "metadata": {},
   "source": [
    "### 3.1 Create custom Parcels functions"
   ]
  },
  {
   "cell_type": "code",
   "execution_count": 7,
   "id": "fb996b7b",
   "metadata": {},
   "outputs": [],
   "source": [
    "def create_fieldset(keystokes, keytau):\n",
    "    \n",
    "    filenames = {'U': {'lon': gridpath, 'lat': gridpath, 'data': filepaths_u},\n",
    "                 'V': {'lon': gridpath, 'lat': gridpath, 'data': filepaths_v}}\n",
    "    variables = {'U': 'vozocrtx',\n",
    "                 'V': 'vomecrty'}\n",
    "    dimensions = {'U': {'lon': 'glamf', 'lat': 'gphif', 'time': 'time_counter'},\n",
    "                  'V': {'lon': 'glamf', 'lat': 'gphif', 'time': 'time_counter'}}\n",
    "    fieldset = FieldSet.from_nemo(filenames, variables, dimensions,\n",
    "                                  mesh='spherical',\n",
    "                                  allow_time_extrapolation=False,time_periodic=False)\n",
    "    \n",
    "    if keystokes == True:\n",
    "        filenames_sd = {'U': {'lon': gridpath, 'lat': gridpath, 'data': filepaths_usd},\n",
    "                        'V': {'lon': gridpath, 'lat': gridpath, 'data': filepaths_vsd}}\n",
    "        variables_sd = {'U': 'usd',\n",
    "                        'V': 'vsd'}\n",
    "        fieldset_sd = FieldSet.from_nemo(filenames_sd, variables_sd, dimensions,\n",
    "                                         mesh='spherical',\n",
    "                                         allow_time_extrapolation=False,\n",
    "                                         time_periodic=False)\n",
    "        fieldset_sum = FieldSet(U=fieldset.U+fieldset_sd.U,\n",
    "                                V=fieldset.V+fieldset_sd.V)\n",
    "        fieldset_use = fieldset_sum\n",
    "    elif keystokes == False:\n",
    "        fieldset_use = fieldset\n",
    "        \n",
    "    if keytau == True:\n",
    "        filenames_tau = {'taux': {'lon': gridpath, 'lat': gridpath, 'data': filepaths_u},\n",
    "                         'tauy': {'lon': gridpath, 'lat': gridpath, 'data': filepaths_v}}\n",
    "        variables_tau = {'taux': 'sozotaux',\n",
    "                         'tauy': 'sometauy'}\n",
    "        dimensions_tau = {'taux': {'lon': 'glamf', 'lat': 'gphif', 'time': 'time_counter'},\n",
    "                          'tauy': {'lon': 'glamf', 'lat': 'gphif', 'time': 'time_counter'}}\n",
    "        fieldset_tau = FieldSet.from_nemo(filenames_tau, variables_tau, dimensions_tau,\n",
    "                                          mesh='spherical',\n",
    "                                          allow_time_extrapolation=False,\n",
    "                                          time_periodic=False)\n",
    "        fieldset_use.add_field(fieldset_tau.taux,'taux')\n",
    "        fieldset_use.add_field(fieldset_tau.tauy,'tauy')\n",
    "    \n",
    "    return fieldset_use"
   ]
  },
  {
   "attachments": {},
   "cell_type": "markdown",
   "id": "47ef5253",
   "metadata": {},
   "source": [
    "Kernels partially adopted and modified from https://github.com/OceanParcels/Parcelsv2.0PaperNorthSeaScripts"
   ]
  },
  {
   "cell_type": "code",
   "execution_count": 8,
   "id": "534d6521",
   "metadata": {},
   "outputs": [],
   "source": [
    "class BeachParticle(pclass):\n",
    "    # beached : 0 sea, 1 beached, 2 after non-beach dyn\n",
    "    beached = Variable('beached', dtype=np.int64, initial=2)"
   ]
  },
  {
   "cell_type": "code",
   "execution_count": 9,
   "id": "63d95d44",
   "metadata": {},
   "outputs": [],
   "source": [
    "class BeachWindParticle(pclass):\n",
    "    # beached : 0 sea, 1 beached, 2 after non-beach dyn\n",
    "    beached = Variable('beached', dtype=np.int64, initial=0)\n",
    "    taux = Variable('taux', dtype=np.float32, initial=np.nan)\n",
    "    tauy = Variable('tauy', dtype=np.float32, initial=np.nan)"
   ]
  },
  {
   "cell_type": "code",
   "execution_count": 10,
   "id": "7d126b81",
   "metadata": {},
   "outputs": [],
   "source": [
    "class BeachCurrentParticle(pclass):\n",
    "    # beached : 0 sea, 1 beached, 2 after non-beach dyn\n",
    "    beached = Variable('beached', dtype=np.int64, initial=0)\n",
    "    U = Variable('U', dtype=np.float32, initial=np.nan)\n",
    "    V = Variable('V', dtype=np.float32, initial=np.nan)"
   ]
  },
  {
   "cell_type": "code",
   "execution_count": 11,
   "id": "c4a52aa3",
   "metadata": {},
   "outputs": [],
   "source": [
    "class BeachWindCurrentParticle(pclass):\n",
    "    # beached : 0 sea, 1 beached, 2 after non-beach dyn\n",
    "    beached = Variable('beached', dtype=np.int64, initial=0)\n",
    "    taux = Variable('taux', dtype=np.float32, initial=np.nan)\n",
    "    tauy = Variable('tauy', dtype=np.float32, initial=np.nan)\n",
    "    U = Variable('U', dtype=np.float32, initial=np.nan)\n",
    "    V = Variable('V', dtype=np.float32, initial=np.nan)"
   ]
  },
  {
   "cell_type": "code",
   "execution_count": 12,
   "id": "fb4a09ed",
   "metadata": {},
   "outputs": [],
   "source": [
    "def AdvectionRK4(particle, fieldset, time):\n",
    "    if particle.beached == 0:\n",
    "        (u1, v1) = fieldset.UV[time, particle.depth, particle.lat, particle.lon, particle]\n",
    "        lon1, lat1 = (particle.lon + u1*.5*particle.dt, particle.lat + v1*.5*particle.dt)\n",
    "\n",
    "        (u2, v2) = fieldset.UV[time + .5 * particle.dt, particle.depth, lat1, lon1, particle]\n",
    "        lon2, lat2 = (particle.lon + u2*.5*particle.dt, particle.lat + v2*.5*particle.dt)\n",
    "\n",
    "        (u3, v3) = fieldset.UV[time + .5 * particle.dt, particle.depth, lat2, lon2, particle]\n",
    "        lon3, lat3 = (particle.lon + u3*particle.dt, particle.lat + v3*particle.dt)\n",
    "\n",
    "        (u4, v4) = fieldset.UV[time + particle.dt, particle.depth, lat3, lon3, particle]\n",
    "        particle.lon += (u1 + 2*u2 + 2*u3 + u4) / 6. * particle.dt\n",
    "        particle.lat += (v1 + 2*v2 + 2*v3 + v4) / 6. * particle.dt\n",
    "        particle.beached = 2"
   ]
  },
  {
   "cell_type": "code",
   "execution_count": 13,
   "id": "517e0678",
   "metadata": {},
   "outputs": [],
   "source": [
    "def SampleUV(particle, fieldset, time):\n",
    "    # attention: samples particle velocity in deg/s and needs to be converted to m/s\n",
    "    particle.U, particle.V = fieldset.UV[time, particle.depth, particle.lat, particle.lon, particle]"
   ]
  },
  {
   "cell_type": "code",
   "execution_count": 14,
   "id": "1547861c",
   "metadata": {},
   "outputs": [],
   "source": [
    "def SampleTau(particle, fieldset, time):\n",
    "    particle.taux = fieldset.taux[time, particle.depth, particle.lat, particle.lon, particle]\n",
    "    particle.tauy = fieldset.tauy[time, particle.depth, particle.lat, particle.lon, particle]"
   ]
  },
  {
   "cell_type": "code",
   "execution_count": 15,
   "id": "1380371c",
   "metadata": {},
   "outputs": [],
   "source": [
    "def BeachTesting(particle, fieldset, time):\n",
    "    if particle.beached == 2:\n",
    "        (u, v) = fieldset.UV[time, particle.depth, particle.lat, particle.lon, particle]\n",
    "        # if velocity threshold ist set to 1e-8 (suggestion Christian) artificial beaching occurs -> do NOT do that\n",
    "        if math.fabs(u) < 1e-14 and math.fabs(v) < 1e-14:\n",
    "            particle.beached = 1\n",
    "            print(\"Particle [%d] beached !! (%g %g %g %g)\" % (particle.id, particle.lon, particle.lat, particle.depth, particle.time))\n",
    "        else:\n",
    "            particle.beached = 0"
   ]
  },
  {
   "cell_type": "code",
   "execution_count": 16,
   "id": "190349e7",
   "metadata": {},
   "outputs": [],
   "source": [
    "def DeleteParticle(particle, fieldset, time):\n",
    "    if particle.beached == 1:\n",
    "        particle.delete()\n",
    "        print(\"Particle [%d] deleted !! (%g %g %g %g)\" % (particle.id, particle.lon, particle.lat, particle.depth, particle.time))"
   ]
  },
  {
   "cell_type": "code",
   "execution_count": 17,
   "id": "a6ca85ea",
   "metadata": {},
   "outputs": [],
   "source": [
    "def PlotParticleSet(pset,fieldset):\n",
    "    plotstep=4\n",
    "    pset.show(field=fieldset.U,\n",
    "              domain={'N':(latmax+plotstep/2),'S':(latmin-plotstep),\n",
    "                      'E': (lonmax+plotstep), 'W':(lonmin-plotstep)})"
   ]
  },
  {
   "cell_type": "code",
   "execution_count": 18,
   "id": "c0b089b3",
   "metadata": {},
   "outputs": [],
   "source": [
    "def PlotParticleSetMedSea(pset,fieldset):\n",
    "    pset.show(field=fieldset.U,\n",
    "              domain={'N':(latmax),'S':(latmin),\n",
    "                      'E': (lonmax), 'W':(lonmin)})"
   ]
  },
  {
   "attachments": {},
   "cell_type": "markdown",
   "id": "9adc986d",
   "metadata": {},
   "source": [
    "### 3.2 Determine exact particle release positions (mask land positions)"
   ]
  },
  {
   "cell_type": "code",
   "execution_count": 19,
   "id": "6ceb90b9-69a7-4f6f-a313-a4333df6ed16",
   "metadata": {},
   "outputs": [
    {
     "data": {
      "image/png": "[encoded data removed]",
      "text/plain": [
       "<Figure size 432x288 with 2 Axes>"
      ]
     },
     "metadata": {
      "needs_background": "light"
     },
     "output_type": "display_data"
    },
    {
     "name": "stdout",
     "output_type": "stream",
     "text": [
      "maximum number of release positions (including land): 112\n",
      "\n"
     ]
    },
    {
     "ename": "RuntimeError",
     "evalue": "Error during compilation:\nCompilation command: x86_64-apple-darwin13.4.0-clang -Wall -fPIC -std=gnu11 -I/Users/siren/opt/miniconda3/envs/py3_parcels/lib/python3.10/site-packages/parcels/include -I. -g -O3 -DDOUBLE_COORD_VARIABLES -m64 -o /var/folders/bd/ct5yrfy51z7bdshm97c2w2nc0000gp/T/parcels-502/lib9881d43f229ad4f1eb0b76ef8ca789ef_0.so /var/folders/bd/ct5yrfy51z7bdshm97c2w2nc0000gp/T/parcels-502/9881d43f229ad4f1eb0b76ef8ca789ef_0.c -shared -lm -m64\nSource/Destination file: /var/folders/bd/ct5yrfy51z7bdshm97c2w2nc0000gp/T/parcels-502/9881d43f229ad4f1eb0b76ef8ca789ef_0.c\nLog file: /var/folders/bd/ct5yrfy51z7bdshm97c2w2nc0000gp/T/parcels-502/9881d43f229ad4f1eb0b76ef8ca789ef_0.log\n\nLog output: /var/folders/bd/ct5yrfy51z7bdshm97c2w2nc0000gp/T/parcels-502/9881d43f229ad4f1eb0b76ef8ca789ef_0.c:108:62: warning: format specifies type 'int' but the argument has type 'long' [-Wformat]\n          printf(\"Particle [%d] beached !! (%g %g %g %g)\\n\", particles->id[pnum], particles->lon[pnum], particles->lat[pnum], particles->depth[pnum], particles->time[pnum]);;\n                            ~~                               ^~~~~~~~~~~~~~~~~~~\n                            %ld\n/var/folders/bd/ct5yrfy51z7bdshm97c2w2nc0000gp/T/parcels-502/9881d43f229ad4f1eb0b76ef8ca789ef_0.c:123:58: warning: format specifies type 'int' but the argument has type 'long' [-Wformat]\n      printf(\"Particle [%d] deleted !! (%g %g %g %g)\\n\", particles->id[pnum], particles->lon[pnum], particles->lat[pnum], particles->depth[pnum], particles->time[pnum]);;\n                        ~~                               ^~~~~~~~~~~~~~~~~~~\n                        %ld\n2 warnings generated.\nld: unsupported tapi file type '!tapi-tbd' in YAML file '/Library/Developer/CommandLineTools/SDKs/MacOSX.sdk/usr/lib/libSystem.tbd' for architecture x86_64\nclang-12: error: linker command failed with exit code 1 (use -v to see invocation)\n",
     "output_type": "error",
     "traceback": [
      "\u001b[0;31m---------------------------------------------------------------------------\u001b[0m",
      "\u001b[0;31mCalledProcessError\u001b[0m                        Traceback (most recent call last)",
      "File \u001b[0;32m~/opt/miniconda3/envs/py3_parcels/lib/python3.10/site-packages/parcels/compilation/codecompiler.py:229\u001b[0m, in \u001b[0;36mCCompiler._create_compile_process_\u001b[0;34m(self, cmd, src, log)\u001b[0m\n\u001b[1;32m    228\u001b[0m \u001b[39mtry\u001b[39;00m:\n\u001b[0;32m--> 229\u001b[0m     subprocess\u001b[39m.\u001b[39;49mcheck_call(cmd, stdout\u001b[39m=\u001b[39;49mlogfile, stderr\u001b[39m=\u001b[39;49mlogfile)\n\u001b[1;32m    230\u001b[0m \u001b[39mexcept\u001b[39;00m \u001b[39mOSError\u001b[39;00m:\n",
      "File \u001b[0;32m~/opt/miniconda3/envs/py3_parcels/lib/python3.10/subprocess.py:369\u001b[0m, in \u001b[0;36mcheck_call\u001b[0;34m(*popenargs, **kwargs)\u001b[0m\n\u001b[1;32m    368\u001b[0m         cmd \u001b[39m=\u001b[39m popenargs[\u001b[39m0\u001b[39m]\n\u001b[0;32m--> 369\u001b[0m     \u001b[39mraise\u001b[39;00m CalledProcessError(retcode, cmd)\n\u001b[1;32m    370\u001b[0m \u001b[39mreturn\u001b[39;00m \u001b[39m0\u001b[39m\n",
      "\u001b[0;31mCalledProcessError\u001b[0m: Command '['x86_64-apple-darwin13.4.0-clang', '-Wall', '-fPIC', '-std=gnu11', '-I/Users/siren/opt/miniconda3/envs/py3_parcels/lib/python3.10/site-packages/parcels/include', '-I.', '-g', '-O3', '-DDOUBLE_COORD_VARIABLES', '-m64', '-o', '/var/folders/bd/ct5yrfy51z7bdshm97c2w2nc0000gp/T/parcels-502/lib9881d43f229ad4f1eb0b76ef8ca789ef_0.so', '/var/folders/bd/ct5yrfy51z7bdshm97c2w2nc0000gp/T/parcels-502/9881d43f229ad4f1eb0b76ef8ca789ef_0.c', '-shared', '-lm', '-m64']' returned non-zero exit status 1.",
      "\nDuring handling of the above exception, another exception occurred:\n",
      "\u001b[0;31mRuntimeError\u001b[0m                              Traceback (most recent call last)",
      "\u001b[1;32m/Users/siren/IMMERSE_waves/develop-mac/code/Parcels_CalcTraj_v2tau.ipynb Cell 32\u001b[0m in \u001b[0;36m<cell line: 18>\u001b[0;34m()\u001b[0m\n\u001b[1;32m     <a href='vscode-notebook-cell:/Users/siren/IMMERSE_waves/develop-mac/code/Parcels_CalcTraj_v2tau.ipynb#X43sZmlsZQ%3D%3D?line=13'>14</a>\u001b[0m \u001b[39m# perform a \"fake\" integration to determine and delete particles released on land\u001b[39;00m\n\u001b[1;32m     <a href='vscode-notebook-cell:/Users/siren/IMMERSE_waves/develop-mac/code/Parcels_CalcTraj_v2tau.ipynb#X43sZmlsZQ%3D%3D?line=14'>15</a>\u001b[0m \u001b[39m## by making use of beach-testing and deleting kernels\u001b[39;00m\n\u001b[1;32m     <a href='vscode-notebook-cell:/Users/siren/IMMERSE_waves/develop-mac/code/Parcels_CalcTraj_v2tau.ipynb#X43sZmlsZQ%3D%3D?line=15'>16</a>\u001b[0m \u001b[39m## (without advection kernel)\u001b[39;00m\n\u001b[1;32m     <a href='vscode-notebook-cell:/Users/siren/IMMERSE_waves/develop-mac/code/Parcels_CalcTraj_v2tau.ipynb#X43sZmlsZQ%3D%3D?line=16'>17</a>\u001b[0m kernels_init \u001b[39m=\u001b[39m pset_init\u001b[39m.\u001b[39mKernel(BeachTesting) \u001b[39m+\u001b[39m pset_init\u001b[39m.\u001b[39mKernel(DeleteParticle)\n\u001b[0;32m---> <a href='vscode-notebook-cell:/Users/siren/IMMERSE_waves/develop-mac/code/Parcels_CalcTraj_v2tau.ipynb#X43sZmlsZQ%3D%3D?line=17'>18</a>\u001b[0m pset_init\u001b[39m.\u001b[39;49mexecute(kernels_init, dt\u001b[39m=\u001b[39;49m\u001b[39m0\u001b[39;49m)\n\u001b[1;32m     <a href='vscode-notebook-cell:/Users/siren/IMMERSE_waves/develop-mac/code/Parcels_CalcTraj_v2tau.ipynb#X43sZmlsZQ%3D%3D?line=18'>19</a>\u001b[0m \u001b[39m#PlotParticleSet(pset_init,fieldset_init)\u001b[39;00m\n\u001b[1;32m     <a href='vscode-notebook-cell:/Users/siren/IMMERSE_waves/develop-mac/code/Parcels_CalcTraj_v2tau.ipynb#X43sZmlsZQ%3D%3D?line=19'>20</a>\u001b[0m PlotParticleSetMedSea(pset_init,fieldset_init)\n",
      "File \u001b[0;32m~/opt/miniconda3/envs/py3_parcels/lib/python3.10/site-packages/parcels/particleset/baseparticleset.py:346\u001b[0m, in \u001b[0;36mBaseParticleSet.execute\u001b[0;34m(self, pyfunc, pyfunc_inter, endtime, runtime, dt, moviedt, recovery, output_file, movie_background_field, verbose_progress, postIterationCallbacks, callbackdt)\u001b[0m\n\u001b[1;32m    344\u001b[0m         \u001b[39mself\u001b[39m\u001b[39m.\u001b[39mkernel\u001b[39m.\u001b[39mremove_lib()\n\u001b[1;32m    345\u001b[0m         cppargs \u001b[39m=\u001b[39m [\u001b[39m'\u001b[39m\u001b[39m-DDOUBLE_COORD_VARIABLES\u001b[39m\u001b[39m'\u001b[39m] \u001b[39mif\u001b[39;00m \u001b[39mself\u001b[39m\u001b[39m.\u001b[39mcollection\u001b[39m.\u001b[39mlonlatdepth_dtype \u001b[39melse\u001b[39;00m \u001b[39mNone\u001b[39;00m\n\u001b[0;32m--> 346\u001b[0m         \u001b[39mself\u001b[39;49m\u001b[39m.\u001b[39;49mkernel\u001b[39m.\u001b[39;49mcompile(compiler\u001b[39m=\u001b[39;49mGNUCompiler(cppargs\u001b[39m=\u001b[39;49mcppargs, incdirs\u001b[39m=\u001b[39;49m[path\u001b[39m.\u001b[39;49mjoin(get_package_dir(), \u001b[39m'\u001b[39;49m\u001b[39minclude\u001b[39;49m\u001b[39m'\u001b[39;49m), \u001b[39m\"\u001b[39;49m\u001b[39m.\u001b[39;49m\u001b[39m\"\u001b[39;49m]))\n\u001b[1;32m    347\u001b[0m         \u001b[39mself\u001b[39m\u001b[39m.\u001b[39mkernel\u001b[39m.\u001b[39mload_lib()\n\u001b[1;32m    349\u001b[0m \u001b[39m# Set up the interaction kernel(s) if not set and given.\u001b[39;00m\n",
      "File \u001b[0;32m~/opt/miniconda3/envs/py3_parcels/lib/python3.10/site-packages/parcels/kernel/basekernel.py:250\u001b[0m, in \u001b[0;36mBaseKernel.compile\u001b[0;34m(self, compiler)\u001b[0m\n\u001b[1;32m    248\u001b[0m         \u001b[39mif\u001b[39;00m \u001b[39mself\u001b[39m\u001b[39m.\u001b[39msrc_file \u001b[39mis\u001b[39;00m \u001b[39mnot\u001b[39;00m \u001b[39mNone\u001b[39;00m:\n\u001b[1;32m    249\u001b[0m             all_files_array\u001b[39m.\u001b[39mappend(\u001b[39mself\u001b[39m\u001b[39m.\u001b[39msrc_file)\n\u001b[0;32m--> 250\u001b[0m         compiler\u001b[39m.\u001b[39;49mcompile(\u001b[39mself\u001b[39;49m\u001b[39m.\u001b[39;49msrc_file, \u001b[39mself\u001b[39;49m\u001b[39m.\u001b[39;49mlib_file, \u001b[39mself\u001b[39;49m\u001b[39m.\u001b[39;49mlog_file)\n\u001b[1;32m    251\u001b[0m \u001b[39mif\u001b[39;00m \u001b[39mlen\u001b[39m(all_files_array) \u001b[39m>\u001b[39m \u001b[39m0\u001b[39m:\n\u001b[1;32m    252\u001b[0m     logger\u001b[39m.\u001b[39minfo(\u001b[39m\"\u001b[39m\u001b[39mCompiled \u001b[39m\u001b[39m%s\u001b[39;00m\u001b[39m ==> \u001b[39m\u001b[39m%s\u001b[39;00m\u001b[39m\"\u001b[39m \u001b[39m%\u001b[39m (\u001b[39mself\u001b[39m\u001b[39m.\u001b[39mname, \u001b[39mself\u001b[39m\u001b[39m.\u001b[39mlib_file))\n",
      "File \u001b[0;32m~/opt/miniconda3/envs/py3_parcels/lib/python3.10/site-packages/parcels/compilation/codecompiler.py:290\u001b[0m, in \u001b[0;36mGNUCompiler_SS.compile\u001b[0;34m(self, src, obj, log)\u001b[0m\n\u001b[1;32m    287\u001b[0m lib_pathdir \u001b[39m=\u001b[39m os\u001b[39m.\u001b[39mpath\u001b[39m.\u001b[39mdirname(obj)\n\u001b[1;32m    288\u001b[0m obj \u001b[39m=\u001b[39m os\u001b[39m.\u001b[39mpath\u001b[39m.\u001b[39mjoin(lib_pathdir, lib_pathfile)\n\u001b[0;32m--> 290\u001b[0m \u001b[39msuper\u001b[39;49m(GNUCompiler_SS, \u001b[39mself\u001b[39;49m)\u001b[39m.\u001b[39;49mcompile(src, obj, log)\n",
      "File \u001b[0;32m~/opt/miniconda3/envs/py3_parcels/lib/python3.10/site-packages/parcels/compilation/codecompiler.py:268\u001b[0m, in \u001b[0;36mCCompiler_SS.compile\u001b[0;34m(self, src, obj, log)\u001b[0m\n\u001b[1;32m    266\u001b[0m \u001b[39mwith\u001b[39;00m \u001b[39mopen\u001b[39m(log, \u001b[39m'\u001b[39m\u001b[39mw\u001b[39m\u001b[39m'\u001b[39m) \u001b[39mas\u001b[39;00m logfile:\n\u001b[1;32m    267\u001b[0m     logfile\u001b[39m.\u001b[39mwrite(\u001b[39m\"\u001b[39m\u001b[39mCompiling: \u001b[39m\u001b[39m%s\u001b[39;00m\u001b[39m\\n\u001b[39;00m\u001b[39m\"\u001b[39m \u001b[39m%\u001b[39m \u001b[39m\"\u001b[39m\u001b[39m \u001b[39m\u001b[39m\"\u001b[39m\u001b[39m.\u001b[39mjoin(cc))\n\u001b[0;32m--> 268\u001b[0m \u001b[39mself\u001b[39;49m\u001b[39m.\u001b[39;49m_create_compile_process_(cc, src, log)\n",
      "File \u001b[0;32m~/opt/miniconda3/envs/py3_parcels/lib/python3.10/site-packages/parcels/compilation/codecompiler.py:242\u001b[0m, in \u001b[0;36mCCompiler._create_compile_process_\u001b[0;34m(self, cmd, src, log)\u001b[0m\n\u001b[1;32m    235\u001b[0m                 \u001b[39mwith\u001b[39;00m \u001b[39mopen\u001b[39m(log, \u001b[39m'\u001b[39m\u001b[39mr\u001b[39m\u001b[39m'\u001b[39m) \u001b[39mas\u001b[39;00m logfile2:\n\u001b[1;32m    236\u001b[0m                     err \u001b[39m=\u001b[39m \u001b[39m\"\"\"\u001b[39m\u001b[39mError during compilation:\u001b[39m\n\u001b[1;32m    237\u001b[0m \u001b[39mCompilation command: \u001b[39m\u001b[39m%s\u001b[39;00m\n\u001b[1;32m    238\u001b[0m \u001b[39mSource/Destination file: \u001b[39m\u001b[39m%s\u001b[39;00m\n\u001b[1;32m    239\u001b[0m \u001b[39mLog file: \u001b[39m\u001b[39m%s\u001b[39;00m\n\u001b[1;32m    240\u001b[0m \n\u001b[1;32m    241\u001b[0m \u001b[39mLog output: \u001b[39m\u001b[39m%s\u001b[39;00m\u001b[39m\"\"\"\u001b[39m \u001b[39m%\u001b[39m (\u001b[39m\"\u001b[39m\u001b[39m \u001b[39m\u001b[39m\"\u001b[39m\u001b[39m.\u001b[39mjoin(cmd), src, logfile\u001b[39m.\u001b[39mname, logfile2\u001b[39m.\u001b[39mread())\n\u001b[0;32m--> 242\u001b[0m                 \u001b[39mraise\u001b[39;00m \u001b[39mRuntimeError\u001b[39;00m(err)\n\u001b[1;32m    243\u001b[0m         \u001b[39mreturn\u001b[39;00m \u001b[39mTrue\u001b[39;00m\n",
      "\u001b[0;31mRuntimeError\u001b[0m: Error during compilation:\nCompilation command: x86_64-apple-darwin13.4.0-clang -Wall -fPIC -std=gnu11 -I/Users/siren/opt/miniconda3/envs/py3_parcels/lib/python3.10/site-packages/parcels/include -I. -g -O3 -DDOUBLE_COORD_VARIABLES -m64 -o /var/folders/bd/ct5yrfy51z7bdshm97c2w2nc0000gp/T/parcels-502/lib9881d43f229ad4f1eb0b76ef8ca789ef_0.so /var/folders/bd/ct5yrfy51z7bdshm97c2w2nc0000gp/T/parcels-502/9881d43f229ad4f1eb0b76ef8ca789ef_0.c -shared -lm -m64\nSource/Destination file: /var/folders/bd/ct5yrfy51z7bdshm97c2w2nc0000gp/T/parcels-502/9881d43f229ad4f1eb0b76ef8ca789ef_0.c\nLog file: /var/folders/bd/ct5yrfy51z7bdshm97c2w2nc0000gp/T/parcels-502/9881d43f229ad4f1eb0b76ef8ca789ef_0.log\n\nLog output: /var/folders/bd/ct5yrfy51z7bdshm97c2w2nc0000gp/T/parcels-502/9881d43f229ad4f1eb0b76ef8ca789ef_0.c:108:62: warning: format specifies type 'int' but the argument has type 'long' [-Wformat]\n          printf(\"Particle [%d] beached !! (%g %g %g %g)\\n\", particles->id[pnum], particles->lon[pnum], particles->lat[pnum], particles->depth[pnum], particles->time[pnum]);;\n                            ~~                               ^~~~~~~~~~~~~~~~~~~\n                            %ld\n/var/folders/bd/ct5yrfy51z7bdshm97c2w2nc0000gp/T/parcels-502/9881d43f229ad4f1eb0b76ef8ca789ef_0.c:123:58: warning: format specifies type 'int' but the argument has type 'long' [-Wformat]\n      printf(\"Particle [%d] deleted !! (%g %g %g %g)\\n\", particles->id[pnum], particles->lon[pnum], particles->lat[pnum], particles->depth[pnum], particles->time[pnum]);;\n                        ~~                               ^~~~~~~~~~~~~~~~~~~\n                        %ld\n2 warnings generated.\nld: unsupported tapi file type '!tapi-tbd' in YAML file '/Library/Developer/CommandLineTools/SDKs/MacOSX.sdk/usr/lib/libSystem.tbd' for architecture x86_64\nclang-12: error: linker command failed with exit code 1 (use -v to see invocation)\n"
     ]
    }
   ],
   "source": [
    "# release particles on predefined uniform grid, including land grid points\n",
    "fieldset_init = create_fieldset(keystokes=False,keytau=False)\n",
    "pset_init = ParticleSet(fieldset=fieldset_init,\n",
    "                        pclass=BeachParticle,\n",
    "                        lon=lons, lat=lats, time=0)\n",
    "pset_init.populate_indices()\n",
    "#PlotParticleSet(pset_init,fieldset_init)\n",
    "PlotParticleSetMedSea(pset_init,fieldset_init)\n",
    "print('maximum number of release positions (including land):',pset_init.lon.size)\n",
    "print()\n",
    "lons_prelim = pset_init.lon\n",
    "lats_prelim = pset_init.lat\n",
    "\n",
    "# perform a \"fake\" integration to determine and delete particles released on land\n",
    "## by making use of beach-testing and deleting kernels\n",
    "## (without advection kernel)\n",
    "kernels_init = pset_init.Kernel(BeachTesting) + pset_init.Kernel(DeleteParticle)\n",
    "pset_init.execute(kernels_init, dt=0)\n",
    "#PlotParticleSet(pset_init,fieldset_init)\n",
    "PlotParticleSetMedSea(pset_init,fieldset_init)\n",
    "\n",
    "# retrieve lon and lats from all ocean release positions\n",
    "print('actual number of release positions (excluding land):', pset_init.lon.size)\n",
    "print('actual number of particles:',\n",
    "      pset_init.lon.size * ((tend_release-tstart_release)/deltat_release))\n",
    "lons_use = pset_init.lon\n",
    "lats_use = pset_init.lat"
   ]
  },
  {
   "attachments": {},
   "cell_type": "markdown",
   "id": "3ed89d47",
   "metadata": {},
   "source": [
    "### 3.3 Perform trajectory integration and save trajectory data"
   ]
  },
  {
   "cell_type": "code",
   "execution_count": 20,
   "id": "5d9cfbfa",
   "metadata": {},
   "outputs": [
    {
     "name": "stderr",
     "output_type": "stream",
     "text": [
      "INFO: Compiled ArrayBeachWindCurrentParticleAdvectionRK4BeachTestingSampleTauSampleUV ==> /var/folders/bd/ct5yrfy51z7bdshm97c2w2nc0000gp/T/parcels-502/lib661c844f8d0203d34d518de228072dd6_0.so\n",
      "INFO: Compiled ArrayBeachWindCurrentParticleAdvectionRK4BeachTestingSampleTauSampleUV ==> /var/folders/bd/ct5yrfy51z7bdshm97c2w2nc0000gp/T/parcels-502/lib906402ccfdd8ba524c83b119b0cb858b_0.so\n",
      "INFO: Compiled ArrayBeachWindCurrentParticleAdvectionRK4BeachTestingSampleTauSampleUV ==> /var/folders/bd/ct5yrfy51z7bdshm97c2w2nc0000gp/T/parcels-502/lib4d251d79edaef56a1a5439161d7062b7_0.so\n",
      "INFO: Compiled ArrayBeachWindCurrentParticleAdvectionRK4BeachTestingSampleTauSampleUV ==> /var/folders/bd/ct5yrfy51z7bdshm97c2w2nc0000gp/T/parcels-502/lib5d5521d3616db2367d23ff2f839b3a05_0.so\n",
      "INFO: Compiled ArrayBeachWindCurrentParticleAdvectionRK4BeachTestingSampleTauSampleUV ==> /var/folders/bd/ct5yrfy51z7bdshm97c2w2nc0000gp/T/parcels-502/lib9c570139439063f562a4e6300380e8df_0.so\n",
      "INFO: Compiled ArrayBeachWindCurrentParticleAdvectionRK4BeachTestingSampleTauSampleUV ==> /var/folders/bd/ct5yrfy51z7bdshm97c2w2nc0000gp/T/parcels-502/lib47fb5477a4b8b358f502f95b5548bd96_0.so\n",
      "INFO: Compiled ArrayBeachWindCurrentParticleAdvectionRK4BeachTestingSampleTauSampleUV ==> /var/folders/bd/ct5yrfy51z7bdshm97c2w2nc0000gp/T/parcels-502/lib6a05a31928395817db2b76abc877c1cc_0.so\n",
      "INFO: Compiled ArrayBeachWindCurrentParticleAdvectionRK4BeachTestingSampleTauSampleUV ==> /var/folders/bd/ct5yrfy51z7bdshm97c2w2nc0000gp/T/parcels-502/lib964832ae6158f95d43563a3ac5c934d0_0.so\n",
      "INFO: Compiled ArrayBeachWindCurrentParticleAdvectionRK4BeachTestingSampleTauSampleUV ==> /var/folders/bd/ct5yrfy51z7bdshm97c2w2nc0000gp/T/parcels-502/libf42f3c2aec0aefdaf46c9d2951a15a1b_0.so\n",
      "INFO: Compiled ArrayBeachWindCurrentParticleAdvectionRK4BeachTestingSampleTauSampleUV ==> /var/folders/bd/ct5yrfy51z7bdshm97c2w2nc0000gp/T/parcels-502/libe82a02f1b28cdf495127f2e5aee4a4e6_0.so\n",
      "INFO: Compiled ArrayBeachWindCurrentParticleAdvectionRK4BeachTestingSampleTauSampleUV ==> /var/folders/bd/ct5yrfy51z7bdshm97c2w2nc0000gp/T/parcels-502/libf43e811c071d6e7c04f3d5c782f0fca4_0.so\n",
      "INFO: Compiled ArrayBeachWindCurrentParticleAdvectionRK4BeachTestingSampleTauSampleUV ==> /var/folders/bd/ct5yrfy51z7bdshm97c2w2nc0000gp/T/parcels-502/lib08a8428372ef720f4ff34c32fde5c175_0.so\n",
      "INFO: Compiled ArrayBeachWindCurrentParticleAdvectionRK4BeachTestingSampleTauSampleUV ==> /var/folders/bd/ct5yrfy51z7bdshm97c2w2nc0000gp/T/parcels-502/lib1731a13740193bb5e4c87f939fff6da6_0.so\n",
      "INFO: Compiled ArrayBeachWindCurrentParticleAdvectionRK4BeachTestingSampleTauSampleUV ==> /var/folders/bd/ct5yrfy51z7bdshm97c2w2nc0000gp/T/parcels-502/lib54104add7f308dbdfb677ed1be878d3e_0.so\n",
      "INFO: Compiled ArrayBeachWindCurrentParticleAdvectionRK4BeachTestingSampleTauSampleUV ==> /var/folders/bd/ct5yrfy51z7bdshm97c2w2nc0000gp/T/parcels-502/lib44e4e04cdd0647eb5ac6f0a1979782ef_0.so\n",
      "INFO: Compiled ArrayBeachWindCurrentParticleAdvectionRK4BeachTestingSampleTauSampleUV ==> /var/folders/bd/ct5yrfy51z7bdshm97c2w2nc0000gp/T/parcels-502/libad590505c768e755dc60d56aa6c1fde2_0.so\n",
      "INFO: Compiled ArrayBeachWindCurrentParticleAdvectionRK4BeachTestingSampleTauSampleUV ==> /var/folders/bd/ct5yrfy51z7bdshm97c2w2nc0000gp/T/parcels-502/libd397b9f9874c2f21c4d0980a0013b87c_0.so\n",
      "INFO: Compiled ArrayBeachWindCurrentParticleAdvectionRK4BeachTestingSampleTauSampleUV ==> /var/folders/bd/ct5yrfy51z7bdshm97c2w2nc0000gp/T/parcels-502/lib0d8bd38f680e2fa2e7e073d8a6cad0e9_0.so\n",
      "INFO: Compiled ArrayBeachWindCurrentParticleAdvectionRK4BeachTestingSampleTauSampleUV ==> /var/folders/bd/ct5yrfy51z7bdshm97c2w2nc0000gp/T/parcels-502/libf42925ee81515ff79f34a674854f8c6e_0.so\n",
      "INFO: Compiled ArrayBeachWindCurrentParticleAdvectionRK4BeachTestingSampleTauSampleUV ==> /var/folders/bd/ct5yrfy51z7bdshm97c2w2nc0000gp/T/parcels-502/lib17a4f97eb12c57fae74ab0343d92c6a2_0.so\n",
      "INFO: Compiled ArrayBeachWindCurrentParticleAdvectionRK4BeachTestingSampleTauSampleUV ==> /var/folders/bd/ct5yrfy51z7bdshm97c2w2nc0000gp/T/parcels-502/libc537122400029c7b994e13e0be46921e_0.so\n",
      "INFO: Compiled ArrayBeachWindCurrentParticleAdvectionRK4BeachTestingSampleTauSampleUV ==> /var/folders/bd/ct5yrfy51z7bdshm97c2w2nc0000gp/T/parcels-502/lib386767a80fda1e4e2f39d9d2a90b6504_0.so\n",
      "INFO: Compiled ArrayBeachWindCurrentParticleAdvectionRK4BeachTestingSampleTauSampleUV ==> /var/folders/bd/ct5yrfy51z7bdshm97c2w2nc0000gp/T/parcels-502/lib140f58bf1b19040dcfba3bbc0f8ea6f7_0.so\n",
      "INFO: Compiled ArrayBeachWindCurrentParticleAdvectionRK4BeachTestingSampleTauSampleUV ==> /var/folders/bd/ct5yrfy51z7bdshm97c2w2nc0000gp/T/parcels-502/libd0cb88d7b78f5f339335583ce5d07fc9_0.so\n",
      "INFO: Compiled ArrayBeachWindCurrentParticleAdvectionRK4BeachTestingSampleTauSampleUV ==> /var/folders/bd/ct5yrfy51z7bdshm97c2w2nc0000gp/T/parcels-502/libfb41824866b53c7d658dad36c0c5d091_0.so\n",
      "INFO: Compiled ArrayBeachWindCurrentParticleAdvectionRK4BeachTestingSampleTauSampleUV ==> /var/folders/bd/ct5yrfy51z7bdshm97c2w2nc0000gp/T/parcels-502/libcb6d71b9e062473b0b06db2b61056d37_0.so\n",
      "INFO: Compiled ArrayBeachWindCurrentParticleAdvectionRK4BeachTestingSampleTauSampleUV ==> /var/folders/bd/ct5yrfy51z7bdshm97c2w2nc0000gp/T/parcels-502/lib2cfa3337af7cfdfa08f0deba7ee9e24d_0.so\n",
      "INFO: Compiled ArrayBeachWindCurrentParticleAdvectionRK4BeachTestingSampleTauSampleUV ==> /var/folders/bd/ct5yrfy51z7bdshm97c2w2nc0000gp/T/parcels-502/libf1b6194413d0ec3a6748541fdb026303_0.so\n",
      "INFO: Compiled ArrayBeachWindCurrentParticleAdvectionRK4BeachTestingSampleTauSampleUV ==> /var/folders/bd/ct5yrfy51z7bdshm97c2w2nc0000gp/T/parcels-502/lib300219464db8bd6d73791db416650441_0.so\n",
      "INFO: Compiled ArrayBeachWindCurrentParticleAdvectionRK4BeachTestingSampleTauSampleUV ==> /var/folders/bd/ct5yrfy51z7bdshm97c2w2nc0000gp/T/parcels-502/libc69656416a9d12c41c237cdd391f78ad_0.so\n",
      "INFO: Compiled ArrayBeachWindCurrentParticleAdvectionRK4BeachTestingSampleTauSampleUV ==> /var/folders/bd/ct5yrfy51z7bdshm97c2w2nc0000gp/T/parcels-502/libb322ea81ad47ffb132248a191d1e2e86_0.so\n",
      "INFO: Compiled ArrayBeachWindCurrentParticleAdvectionRK4BeachTestingSampleTauSampleUV ==> /var/folders/bd/ct5yrfy51z7bdshm97c2w2nc0000gp/T/parcels-502/libce817b1efaff59822c2fc3786a1af2f8_0.so\n",
      "INFO: Compiled ArrayBeachWindCurrentParticleAdvectionRK4BeachTestingSampleTauSampleUV ==> /var/folders/bd/ct5yrfy51z7bdshm97c2w2nc0000gp/T/parcels-502/lib13f78aab9d1d8b8fcec90a80c3bc9767_0.so\n",
      "INFO: Compiled ArrayBeachWindCurrentParticleAdvectionRK4BeachTestingSampleTauSampleUV ==> /var/folders/bd/ct5yrfy51z7bdshm97c2w2nc0000gp/T/parcels-502/libc3c26258355d4a56f6f297b4e5d0a722_0.so\n",
      "INFO: Compiled ArrayBeachWindCurrentParticleAdvectionRK4BeachTestingSampleTauSampleUV ==> /var/folders/bd/ct5yrfy51z7bdshm97c2w2nc0000gp/T/parcels-502/lib951914a5a4437fac0f14aacbe9738765_0.so\n",
      "INFO: Compiled ArrayBeachWindCurrentParticleAdvectionRK4BeachTestingSampleTauSampleUV ==> /var/folders/bd/ct5yrfy51z7bdshm97c2w2nc0000gp/T/parcels-502/libbb409454604a506910c8da9c0974daaa_0.so\n",
      "INFO: Compiled ArrayBeachWindCurrentParticleAdvectionRK4BeachTestingSampleTauSampleUV ==> /var/folders/bd/ct5yrfy51z7bdshm97c2w2nc0000gp/T/parcels-502/lib6f248af9130be78711ae4327a368e813_0.so\n",
      "INFO: Compiled ArrayBeachWindCurrentParticleAdvectionRK4BeachTestingSampleTauSampleUV ==> /var/folders/bd/ct5yrfy51z7bdshm97c2w2nc0000gp/T/parcels-502/lib32a38d7750b870499880f94aaf84678d_0.so\n",
      "INFO: Compiled ArrayBeachWindCurrentParticleAdvectionRK4BeachTestingSampleTauSampleUV ==> /var/folders/bd/ct5yrfy51z7bdshm97c2w2nc0000gp/T/parcels-502/libb6ef621ca2ee65816c8641cafcc624a1_0.so\n",
      "INFO: Compiled ArrayBeachWindCurrentParticleAdvectionRK4BeachTestingSampleTauSampleUV ==> /var/folders/bd/ct5yrfy51z7bdshm97c2w2nc0000gp/T/parcels-502/libb1218a34ed20d500ca2619bb44ba642b_0.so\n",
      "INFO: Compiled ArrayBeachWindCurrentParticleAdvectionRK4BeachTestingSampleTauSampleUV ==> /var/folders/bd/ct5yrfy51z7bdshm97c2w2nc0000gp/T/parcels-502/libd06ece47b166bbe5e3d902a0d42538fa_0.so\n",
      "INFO: Compiled ArrayBeachWindCurrentParticleAdvectionRK4BeachTestingSampleTauSampleUV ==> /var/folders/bd/ct5yrfy51z7bdshm97c2w2nc0000gp/T/parcels-502/lib2c09d2e129a76b1bf31fd53d7522634a_0.so\n",
      "INFO: Compiled ArrayBeachWindCurrentParticleAdvectionRK4BeachTestingSampleTauSampleUV ==> /var/folders/bd/ct5yrfy51z7bdshm97c2w2nc0000gp/T/parcels-502/lib962ff689d749e7087e439e274c6eee41_0.so\n"
     ]
    },
    {
     "name": "stderr",
     "output_type": "stream",
     "text": [
      "INFO: Compiled ArrayBeachWindCurrentParticleAdvectionRK4BeachTestingSampleTauSampleUV ==> /var/folders/bd/ct5yrfy51z7bdshm97c2w2nc0000gp/T/parcels-502/libaf916fc263149a6b46052165104697b8_0.so\n",
      "INFO: Compiled ArrayBeachWindCurrentParticleAdvectionRK4BeachTestingSampleTauSampleUV ==> /var/folders/bd/ct5yrfy51z7bdshm97c2w2nc0000gp/T/parcels-502/libaa08dd24aeff3e838c89bdcdf708b1c1_0.so\n",
      "INFO: Compiled ArrayBeachWindCurrentParticleAdvectionRK4BeachTestingSampleTauSampleUV ==> /var/folders/bd/ct5yrfy51z7bdshm97c2w2nc0000gp/T/parcels-502/lib7ce92a432f2b242dd2fb166c8a3aec28_0.so\n",
      "INFO: Compiled ArrayBeachWindCurrentParticleAdvectionRK4BeachTestingSampleTauSampleUV ==> /var/folders/bd/ct5yrfy51z7bdshm97c2w2nc0000gp/T/parcels-502/lib3de211656f18c6e742632d01a78cc623_0.so\n",
      "INFO: Compiled ArrayBeachWindCurrentParticleAdvectionRK4BeachTestingSampleTauSampleUV ==> /var/folders/bd/ct5yrfy51z7bdshm97c2w2nc0000gp/T/parcels-502/lib0527bac86242d7b668b4b535d01cb5ad_0.so\n",
      "INFO: Compiled ArrayBeachWindCurrentParticleAdvectionRK4BeachTestingSampleTauSampleUV ==> /var/folders/bd/ct5yrfy51z7bdshm97c2w2nc0000gp/T/parcels-502/lib82d7ae9966f0056e1bd8665c58ea788b_0.so\n",
      "INFO: Compiled ArrayBeachWindCurrentParticleAdvectionRK4BeachTestingSampleTauSampleUV ==> /var/folders/bd/ct5yrfy51z7bdshm97c2w2nc0000gp/T/parcels-502/lib97b308c4b4aba9bfe931a71dbc48365c_0.so\n",
      "INFO: Compiled ArrayBeachWindCurrentParticleAdvectionRK4BeachTestingSampleTauSampleUV ==> /var/folders/bd/ct5yrfy51z7bdshm97c2w2nc0000gp/T/parcels-502/lib2dd30ee07e3f3fe0af68653e9ed45472_0.so\n",
      "INFO: Compiled ArrayBeachWindCurrentParticleAdvectionRK4BeachTestingSampleTauSampleUV ==> /var/folders/bd/ct5yrfy51z7bdshm97c2w2nc0000gp/T/parcels-502/lib06ba1abc437798fd1cb5509f8a9d1efc_0.so\n",
      "INFO: Compiled ArrayBeachWindCurrentParticleAdvectionRK4BeachTestingSampleTauSampleUV ==> /var/folders/bd/ct5yrfy51z7bdshm97c2w2nc0000gp/T/parcels-502/libf2662548a82077c3a1d8c7a1918eac56_0.so\n",
      "INFO: Compiled ArrayBeachWindCurrentParticleAdvectionRK4BeachTestingSampleTauSampleUV ==> /var/folders/bd/ct5yrfy51z7bdshm97c2w2nc0000gp/T/parcels-502/lib030587cccecc8dcf9b90dc9ff73c3bf6_0.so\n",
      "INFO: Compiled ArrayBeachWindCurrentParticleAdvectionRK4BeachTestingSampleTauSampleUV ==> /var/folders/bd/ct5yrfy51z7bdshm97c2w2nc0000gp/T/parcels-502/libe4dcd7d535cc69a06773c2b8c17e2cf7_0.so\n",
      "INFO: Compiled ArrayBeachWindCurrentParticleAdvectionRK4BeachTestingSampleTauSampleUV ==> /var/folders/bd/ct5yrfy51z7bdshm97c2w2nc0000gp/T/parcels-502/libfb661b256ac7d2b64dd535d9dffb72bd_0.so\n",
      "INFO: Compiled ArrayBeachWindCurrentParticleAdvectionRK4BeachTestingSampleTauSampleUV ==> /var/folders/bd/ct5yrfy51z7bdshm97c2w2nc0000gp/T/parcels-502/lib80d48e05f892671e947a164bf0df6ce2_0.so\n",
      "INFO: Compiled ArrayBeachWindCurrentParticleAdvectionRK4BeachTestingSampleTauSampleUV ==> /var/folders/bd/ct5yrfy51z7bdshm97c2w2nc0000gp/T/parcels-502/liba9104a3b2624fa71cb0d0f9872b39bf4_0.so\n",
      "INFO: Compiled ArrayBeachWindCurrentParticleAdvectionRK4BeachTestingSampleTauSampleUV ==> /var/folders/bd/ct5yrfy51z7bdshm97c2w2nc0000gp/T/parcels-502/lib7d90d7de84f55ec86c4cb95012daaffb_0.so\n",
      "INFO: Compiled ArrayBeachWindCurrentParticleAdvectionRK4BeachTestingSampleTauSampleUV ==> /var/folders/bd/ct5yrfy51z7bdshm97c2w2nc0000gp/T/parcels-502/libdbbf0385bdbe06039dea864f7df8e2a2_0.so\n",
      "INFO: Compiled ArrayBeachWindCurrentParticleAdvectionRK4BeachTestingSampleTauSampleUV ==> /var/folders/bd/ct5yrfy51z7bdshm97c2w2nc0000gp/T/parcels-502/lib1cbddbb122111f8bd5e45da4109b3ab1_0.so\n",
      "INFO: Compiled ArrayBeachWindCurrentParticleAdvectionRK4BeachTestingSampleTauSampleUV ==> /var/folders/bd/ct5yrfy51z7bdshm97c2w2nc0000gp/T/parcels-502/libd9ff09529a139160822be1aaa2b186bc_0.so\n",
      "INFO: Compiled ArrayBeachWindCurrentParticleAdvectionRK4BeachTestingSampleTauSampleUV ==> /var/folders/bd/ct5yrfy51z7bdshm97c2w2nc0000gp/T/parcels-502/libbc01a4bf0968fd50b162756eab4464e8_0.so\n",
      "INFO: Compiled ArrayBeachWindCurrentParticleAdvectionRK4BeachTestingSampleTauSampleUV ==> /var/folders/bd/ct5yrfy51z7bdshm97c2w2nc0000gp/T/parcels-502/lib3790bb17ec3b5f8ed1883f24d7be3de0_0.so\n",
      "INFO: Compiled ArrayBeachWindCurrentParticleAdvectionRK4BeachTestingSampleTauSampleUV ==> /var/folders/bd/ct5yrfy51z7bdshm97c2w2nc0000gp/T/parcels-502/libdc7c92a5cf89bcc5443ad7bb0ec5a3b1_0.so\n",
      "INFO: Compiled ArrayBeachWindCurrentParticleAdvectionRK4BeachTestingSampleTauSampleUV ==> /var/folders/bd/ct5yrfy51z7bdshm97c2w2nc0000gp/T/parcels-502/liba16bc16c19644a562c9fe84b574295c7_0.so\n",
      "INFO: Compiled ArrayBeachWindCurrentParticleAdvectionRK4BeachTestingSampleTauSampleUV ==> /var/folders/bd/ct5yrfy51z7bdshm97c2w2nc0000gp/T/parcels-502/lib1a5e018e75ed46857d40be50493cc551_0.so\n",
      "INFO: Compiled ArrayBeachWindCurrentParticleAdvectionRK4BeachTestingSampleTauSampleUV ==> /var/folders/bd/ct5yrfy51z7bdshm97c2w2nc0000gp/T/parcels-502/lib3d18564c081cd53c97c951ff2f2900f7_0.so\n",
      "INFO: Compiled ArrayBeachWindCurrentParticleAdvectionRK4BeachTestingSampleTauSampleUV ==> /var/folders/bd/ct5yrfy51z7bdshm97c2w2nc0000gp/T/parcels-502/lib710b4d910ef58c1eeaba010d0a951c35_0.so\n",
      "INFO: Compiled ArrayBeachWindCurrentParticleAdvectionRK4BeachTestingSampleTauSampleUV ==> /var/folders/bd/ct5yrfy51z7bdshm97c2w2nc0000gp/T/parcels-502/libfe0f5fa4809a307b06856c0fe985177a_0.so\n",
      "INFO: Compiled ArrayBeachWindCurrentParticleAdvectionRK4BeachTestingSampleTauSampleUV ==> /var/folders/bd/ct5yrfy51z7bdshm97c2w2nc0000gp/T/parcels-502/libed6ecb8b1d54042ebdb66741fc556a78_0.so\n",
      "INFO: Temporary output files are stored in /Users/siren/IMMERSE_waves/develop-mac/data/revisedNEMO/GulfOfLion/out-AFVHYPZV.\n",
      "INFO: You can use \"parcels_convert_npydir_to_netcdf /Users/siren/IMMERSE_waves/develop-mac/data/revisedNEMO/GulfOfLion/out-AFVHYPZV\" to convert these to a NetCDF file during the run.\n",
      "100% (2592000.0 of 2592000.0) |##########| Elapsed Time: 2:00:06 Time:  2:00:06\n",
      "INFO: Compiled ArrayBeachWindCurrentParticleAdvectionRK4BeachTestingSampleTauSampleUV ==> /var/folders/bd/ct5yrfy51z7bdshm97c2w2nc0000gp/T/parcels-502/lib6538b6d409c8776906dc61c32224b934_0.so\n",
      "INFO: Compiled ArrayBeachWindCurrentParticleAdvectionRK4BeachTestingSampleTauSampleUV ==> /var/folders/bd/ct5yrfy51z7bdshm97c2w2nc0000gp/T/parcels-502/lib8796e02643291fa5353fc576ccdf4ee9_0.so\n"
     ]
    },
    {
     "name": "stdout",
     "output_type": "stream",
     "text": [
      "CPU times: user 1h 8min 16s, sys: 3min, total: 1h 11min 17s\n",
      "Wall time: 15h 9min 33s\n"
     ]
    }
   ],
   "source": [
    "%%time\n",
    "for times in range(tstart_release, tend_release, deltat_release):\n",
    "    \n",
    "    if ((key_sample_tau == True) and (key_sample_velocity == True)):\n",
    "        pclass_main = BeachWindCurrentParticle\n",
    "        outpath_ending = 'm_Sample-tau-UV.nc'\n",
    "    elif ((key_sample_tau == True) and (key_sample_velocity == False)):\n",
    "        pclass_main = BeachWindParticle\n",
    "        outpath_ending = 'm_Sample-tau.nc'\n",
    "    elif ((key_sample_tau == False) and (key_sample_velocity == True)):\n",
    "        pclass_main = BeachCurrentParticle\n",
    "        outpath_ending = 'm_Sample-UV.nc'\n",
    "    else:\n",
    "        pclass_main=BeachParticle\n",
    "        outpath_ending = 'm.nc'\n",
    "  \n",
    "    ## create new clean particle set (including new clean fieldset)\n",
    "    fieldset_main = create_fieldset(keystokes=key_stokes,keytau=key_sample_tau)\n",
    "    pset_main = ParticleSet(fieldset=fieldset_main,\n",
    "                            pclass=pclass_main,\n",
    "                            lon=lons_use, lat=lats_use,\n",
    "                            time=times*times_convert)   \n",
    "    pset_main.populate_indices()\n",
    "    \n",
    "    ## define output\n",
    "    ### ensure depth is not stored in trajectory output (depth not necessary for 2D calculations)\n",
    "    pset_main.set_variable_write_status('depth', False) \n",
    "    outpath_final = (outpath + '-t' + str(times) \n",
    "                     + '_Integrate-fw-d' + str(tint) + '-dt' + str(deltat) \n",
    "                     + outpath_ending)\n",
    "    outfile_final = pset_main.ParticleFile(outpath_final, \n",
    "                                           outputdt=timedelta(days=outdt))\n",
    "  \n",
    "    ## advect particle\n",
    "    ## do not delete beached particles, but keep them for statistics\n",
    "    if ((key_sample_tau == True) and (key_sample_velocity == True)):\n",
    "        kernels_main = (pset_main.Kernel(AdvectionRK4) + pset_main.Kernel(BeachTesting) \n",
    "                        + pset_main.Kernel(SampleTau) + pset_main.Kernel(SampleUV))\n",
    "    elif ((key_sample_tau == True) and (key_sample_velocity == False)):\n",
    "        kernels_main = (pset_main.Kernel(AdvectionRK4) + pset_main.Kernel(BeachTesting) \n",
    "                        + pset_main.Kernel(SampleTau))\n",
    "    elif ((key_sample_tau == False) and (key_sample_velocity == True)):\n",
    "        kernels_main = (pset_main.Kernel(AdvectionRK4) + pset_main.Kernel(BeachTesting) \n",
    "                        + pset_main.Kernel(SampleUV))\n",
    "    else:\n",
    "        kernels_main = (pset_main.Kernel(AdvectionRK4) + pset_main.Kernel(BeachTesting))\n",
    "    pset_main.execute(kernels_main,\n",
    "                      runtime=timedelta(days=tint),\n",
    "                      dt=timedelta(minutes=deltat),\n",
    "                      output_file=outfile_final)\n",
    "    #if times == tstart_release:\n",
    "    #    PlotParticleSet(pset_main,fieldset_init)\n",
    "        \n",
    "    outfile_final.export()\n",
    "    outfile_final.close()\n",
    "    \n",
    "    pset_main.set_variable_write_status('depth', True) # somehow needed, otherwise next pset can not be build"
   ]
  }
 ],
 "metadata": {
  "kernelspec": {
   "display_name": "Python 3 (ipykernel)",
   "language": "python",
   "name": "python3"
  },
  "language_info": {
   "codemirror_mode": {
    "name": "ipython",
    "version": 3
   },
   "file_extension": ".py",
   "mimetype": "text/x-python",
   "name": "python",
   "nbconvert_exporter": "python",
   "pygments_lexer": "ipython3",
   "version": "3.10.2"
  }
 },
 "nbformat": 4,
 "nbformat_minor": 5
}
